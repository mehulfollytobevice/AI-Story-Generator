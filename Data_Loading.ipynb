{
 "cells": [
  {
   "cell_type": "markdown",
   "id": "63d0b41d",
   "metadata": {},
   "source": [
    "# Data Loading:\n",
    "\n",
    "In this notebook, we will preprocess the data. The preprocessing pipeline will contain the following steps:\n",
    "\n",
    "1. Tokenization\n",
    "2. Text Normalization\n",
    "    1. Case folding\n",
    "    2. Lemmatization\n",
    "    3. Stemming\n",
    "3. Convert into indexes"
   ]
  },
  {
   "cell_type": "code",
   "execution_count": 63,
   "id": "fda9e941",
   "metadata": {},
   "outputs": [],
   "source": [
    "import pandas as pd\n",
    "import re"
   ]
  },
  {
   "cell_type": "markdown",
   "id": "12c449c2",
   "metadata": {},
   "source": [
    "Import training data"
   ]
  },
  {
   "cell_type": "code",
   "execution_count": 55,
   "id": "f9915cf2",
   "metadata": {},
   "outputs": [],
   "source": [
    "with open( \"data/writingprompts/train.wp_target\") as f:\n",
    "    stories = f.readlines()\n",
    "stories = [\" \".join(i.split()) for i in stories]"
   ]
  },
  {
   "cell_type": "code",
   "execution_count": 56,
   "id": "22580ea8",
   "metadata": {},
   "outputs": [
    {
     "data": {
      "text/plain": [
       "\"-Week 18 aboard the Depth Reaver , Circa 2023- <newline> <newline> I walk about the dull gray halls , the artificial gravity making my steps feel almost as if they were on land . Almost . I glance out a window as I pass it by . There 's the sun , and there 's the moon right there . And , of course , there 's the Earth . I kinda miss it . Then again , space is pretty cool . It 's got some brilliant views , and the wifi is surprisingly good . Even countless miles away from the Earth , I can crush Silver noobs on CS GO . <newline> <newline> I pass by Dale Malkowitz , the head scientist on board . <newline> <newline> `` Evening , Dale , '' I say . <newline> <newline> `` What up , Danny ? '' he replies cordially . <newline> <newline> `` Nothin ' much . A little bored , I guess . '' <newline> <newline> He shakes his head in disbelief . `` I really , *really* do n't understand how you can be bored in space . '' <newline> <newline> `` Well hey , '' I say slightly defensively , `` Aside from the views , it 's kinda ... dull . And empty . And stuff . '' <newline> <newline> `` Whatever you say , Wittell , '' he says , not unkindly . Then he walks off . A few moments pass , and then I decide to look out the window right by me . As my eyes scan the inky blackness of space ( again ) , I notice something odd about the moon 's surface . It 's slightly ... cracked . <newline> <newline> `` Hey , Malkowitz ? '' I call out , `` You might wan na check this out ! '' <newline> <newline> He walks over to me casually , probably expecting nothing . `` What ? '' he asks , `` What do you see ? '' <newline> <newline> I point at the moon . His brow furrows . `` Huh ... I guess there 's something up with the surface . I 'll have to look into tha- '' <newline> <newline> Suddenly , the surface cracks a little more . We glance at each other , and then back at the moon , and then at each other again , and then back at the moon again . <newline> <newline> `` What 's going on ? '' I ask , alarmed . <newline> <newline> He 's silent for a minute or two , mouth hanging open . Then , he calls out : `` Janice ! Terry ! Johnny ! Get over here ! Something 's up with the moon . '' <newline> <newline> The other crewmates enter , unsure of what to expect . As their eyes lay upon the moon 's surface cracks , they widen . <newline> <newline> And , by coincidence , more cracks appear at that very moment . And then more . And more . And more . And more ... <newline> <newline> Little bits of the moon begin to float away , torn free of the rest of the surface . We all stare , speechless . And then ... it happens . It *happens* . <newline> <newline> The side of the moon facing us is ... torn away by a ... <newline> <newline> Human ... hand ? <newline> <newline> And we see ... <newline> <newline> A giant ... human face ? ! <newline> <newline> Surprisingly , I can hear my thoughts over my racing heart . *I ca n't help but feel as if I recognize that face ... from the ... * <newline> <newline> *Internet . * <newline> <newline> Suddenly , the great face 's lips move . <newline> <newline> Of course , none of us can actually *hear* it speak , because of the laws of space and whatnot . However , I can read its lips , and it appears to be saying : <newline> <newline> `` Are you sure about that ? ''\""
      ]
     },
     "execution_count": 56,
     "metadata": {},
     "output_type": "execute_result"
    }
   ],
   "source": [
    "stories[1]"
   ]
  },
  {
   "cell_type": "markdown",
   "id": "aa3b2855",
   "metadata": {},
   "source": [
    "How many targets do we have?"
   ]
  },
  {
   "cell_type": "code",
   "execution_count": 57,
   "id": "c4ec677d",
   "metadata": {},
   "outputs": [
    {
     "data": {
      "text/plain": [
       "272600"
      ]
     },
     "execution_count": 57,
     "metadata": {},
     "output_type": "execute_result"
    }
   ],
   "source": [
    "len(stories)"
   ]
  },
  {
   "cell_type": "markdown",
   "id": "2a4f238f",
   "metadata": {},
   "source": [
    "Let's get the sources as well. We should probably remove things like `[WP]` from the start of the sentence. "
   ]
  },
  {
   "cell_type": "code",
   "execution_count": 80,
   "id": "a365bf06",
   "metadata": {},
   "outputs": [],
   "source": [
    "with open( \"data/writingprompts/train.wp_source\") as f:\n",
    "    prompts = f.readlines()\n",
    "prompts = [\" \".join(i.split()) for i in prompts]\n",
    "\n",
    "# let's use regex and remove the things in square brackets like [WP],[EU],[IP]\n",
    "pattern = r\"\\[\\s*[A-Z]{2}\\s*\\]\"\n",
    "prompts=[re.sub(pattern,'',i) for i in prompts]"
   ]
  },
  {
   "cell_type": "code",
   "execution_count": 59,
   "id": "0b29df1c",
   "metadata": {},
   "outputs": [
    {
     "data": {
      "text/plain": [
       "272600"
      ]
     },
     "execution_count": 59,
     "metadata": {},
     "output_type": "execute_result"
    }
   ],
   "source": [
    "len(prompts)"
   ]
  },
  {
   "cell_type": "markdown",
   "id": "8ce0b76a",
   "metadata": {},
   "source": [
    "Now, we can put these in a dataframe where "
   ]
  },
  {
   "cell_type": "code",
   "execution_count": 84,
   "id": "ea0d1bb2",
   "metadata": {},
   "outputs": [],
   "source": [
    "train_df=pd.DataFrame({'stories':stories,'prompts':prompts})\n",
    "train_df.to_csv(\"data/train_df.csv\")"
   ]
  },
  {
   "cell_type": "markdown",
   "id": "341da786",
   "metadata": {},
   "source": [
    "We can do this with the testing and validation dataset as well:"
   ]
  },
  {
   "cell_type": "markdown",
   "id": "73046d2c",
   "metadata": {},
   "source": [
    "For the validation dataset"
   ]
  },
  {
   "cell_type": "code",
   "execution_count": 86,
   "id": "a8c3d361",
   "metadata": {},
   "outputs": [],
   "source": [
    "# read the targets\n",
    "with open( \"data/writingprompts/valid.wp_target\") as f:\n",
    "    stories = f.readlines()\n",
    "stories = [\" \".join(i.split()) for i in stories]\n",
    "\n",
    "# read the source\n",
    "with open( \"data/writingprompts/valid.wp_source\") as f:\n",
    "    prompts = f.readlines()\n",
    "prompts = [\" \".join(i.split()) for i in prompts]\n",
    "\n",
    "# let's use regex and remove the things in square brackets like [WP],[EU],[IP]\n",
    "pattern = r\"\\[\\s*[A-Z]{2}\\s*\\]\"\n",
    "prompts=[re.sub(pattern,'',i) for i in prompts]\n",
    "\n",
    "# save the dataset\n",
    "valid_df=pd.DataFrame({'stories':stories,'prompts':prompts})\n",
    "valid_df.to_csv(\"data/valid_df.csv\")"
   ]
  },
  {
   "cell_type": "markdown",
   "id": "e5b7454b",
   "metadata": {},
   "source": [
    "For the testing dataset"
   ]
  },
  {
   "cell_type": "code",
   "execution_count": 87,
   "id": "8b90d00a",
   "metadata": {},
   "outputs": [],
   "source": [
    "# read the targets\n",
    "with open( \"data/writingprompts/test.wp_target\") as f:\n",
    "    stories = f.readlines()\n",
    "stories = [\" \".join(i.split()) for i in stories]\n",
    "\n",
    "# read the source\n",
    "with open( \"data/writingprompts/test.wp_source\") as f:\n",
    "    prompts = f.readlines()\n",
    "prompts = [\" \".join(i.split()) for i in prompts]\n",
    "\n",
    "# let's use regex and remove the things in square brackets like [WP],[EU],[IP]\n",
    "pattern = r\"\\[\\s*[A-Z]{2}\\s*\\]\"\n",
    "prompts=[re.sub(pattern,'',i) for i in prompts]\n",
    "\n",
    "# save the dataset\n",
    "test_df=pd.DataFrame({'stories':stories,'prompts':prompts})\n",
    "test_df.to_csv(\"data/test_df.csv\")"
   ]
  }
 ],
 "metadata": {
  "kernelspec": {
   "display_name": "nlp",
   "language": "python",
   "name": "nlp"
  },
  "language_info": {
   "codemirror_mode": {
    "name": "ipython",
    "version": 3
   },
   "file_extension": ".py",
   "mimetype": "text/x-python",
   "name": "python",
   "nbconvert_exporter": "python",
   "pygments_lexer": "ipython3",
   "version": "3.10.8"
  }
 },
 "nbformat": 4,
 "nbformat_minor": 5
}
